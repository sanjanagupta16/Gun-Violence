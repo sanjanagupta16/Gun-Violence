{
 "cells": [
  {
   "cell_type": "markdown",
   "metadata": {},
   "source": [
    "# DATA 512 Au: Human-Centered Data Science"
   ]
  },
  {
   "cell_type": "markdown",
   "metadata": {},
   "source": [
    "## A5: Final Project Proposal"
   ]
  },
  {
   "cell_type": "markdown",
   "metadata": {},
   "source": [
    "### *Sanjana Gupta* | *November 12, 2020*"
   ]
  },
  {
   "cell_type": "markdown",
   "metadata": {},
   "source": [
    "# Motivation"
   ]
  },
  {
   "cell_type": "markdown",
   "metadata": {},
   "source": [
    "Over 37,500 American lives are lost on an average every year due to gun related violence. Between 1968 to 2011, about 1.4 million people have died from firearms in the United States. This number includes all deaths resulting from a firearm, including suicides, homicides and accidental discharges. The US gun homicide rate is 25 times than that of other high income countries. (!!) \n",
    "\n",
    "Given the alarming trend at which homicidal shootings have been increasing, it's important to take a hard look at this problem and, and ultimately make **data-driven** decisions. Unfortunately, research into firearms and gun control is full of difficulties due to limited data on gun ownership and use and aggregation of crime data.\n",
    "\n",
    "The purpose of this project is to explore this issue and to see if there exists a correlation between gun related crimes and the firearm laws mandated by each state. This project also wishes to explore the different socio-economic and/or demographic factors that lead to higher number of such incidents."
   ]
  },
  {
   "cell_type": "markdown",
   "metadata": {},
   "source": [
    "# Data"
   ]
  },
  {
   "cell_type": "markdown",
   "metadata": {},
   "source": [
    "The primary dataset that will be used for analysis is the [Gun Violence Data](https://www.kaggle.com/jameslko/gun-violence-data) hosted on Kaggle. It is a comprehensive record of over 260K gun violence related incidents in the United States from 2013-2018. This data was web scraped from [Gun Violence Archive](https://www.gunviolencearchive.org/), a not-for-profit corporation that collects gun violence related incidents from over 7,500 law enforcement, media, government, and commercial sources daily.\n",
    "\n",
    "It contains 239, 677 rows of data with 29 columns/features. The dataset consists of:\n",
    "* Date of incident\n",
    "* The location (City, State, Address, Latitude, Longitude, Congressional District, State House District, State Senate District)\n",
    "* Casualties (Killed, Injured)\n",
    "* Logistics (Guns stolen, Number of guns involved, Gun type)\n",
    "* Demographic information about the persons involved (Age, Gender, Type)\n",
    "\n",
    "The Gun Violence Data is publicly available and as [stated](https://www.gunviolencearchive.org/about), it can be used for research, advocacy or writing. \n",
    "\n",
    "This dataset contains a lot of missing data from 2013 and only contains data until March 2018. There have been a considerable number of incidents since then that are not included in the dataset.\n",
    "\n",
    "\n",
    "To look at the firearm laws mandated by each state, [RAND](https://www.rand.org/pubs/tools/TLA243-2.html) has a database that contains information on state and District of Columbia firearm laws in the United States from 1979 to January 2020.\n",
    "\n",
    "To normalize the number of incidents per state, The [US Census Population Data](https://www2.census.gov/programs-surveys/popest/datasets/2010-2017/state/asrh/scprc-est2017-18+pop-res.csv) will be used."
   ]
  },
  {
   "cell_type": "markdown",
   "metadata": {},
   "source": [
    "# Research Questions"
   ]
  },
  {
   "cell_type": "markdown",
   "metadata": {},
   "source": [
    "This project aims to answer the following research questions:"
   ]
  },
  {
   "cell_type": "markdown",
   "metadata": {},
   "source": [
    "- Is there a correlation between the use of guns and demographics of the users involved?\n",
    "- Does geography play a role with the number of incidents?\n",
    "- Do state gun laws have an impact on gun violence? \n",
    "- Does gun ownership impact gun violence incidents?"
   ]
  },
  {
   "cell_type": "markdown",
   "metadata": {},
   "source": [
    "# Methodology"
   ]
  },
  {
   "cell_type": "markdown",
   "metadata": {},
   "source": [
    "For data cleaning and pre-processing, [pandas](https://pandas.pydata.org/) and [numpy](https://numpy.org/) python libraries will be used.\n",
    "\n",
    "To answer the research questions listed above, a combination of Exploratory Data Analysis and Statistical Analysis to check for correlation will be carried out.\n",
    "For EDA, [matplotlib](https://matplotlib.org/) and [seaborn](https://seaborn.pydata.org/) python libraries will be used."
   ]
  },
  {
   "cell_type": "markdown",
   "metadata": {},
   "source": [
    "# Unknowns"
   ]
  },
  {
   "cell_type": "markdown",
   "metadata": {},
   "source": [
    "- Demographic information like education, income, religion, ethnicity, etc. about the participants is not provided as a part of the [Gun Violence Data](https://www.kaggle.com/jameslko/gun-violence-data) dataset. The [US Census](https://www.census.gov/data.html) does provide this information in separate datasets. It might prove to be time consuming to aggregate the information required at state level. \n",
    "\n",
    "\n",
    "- For the purpose of this project, I am also keen to explore the role of political affiliation of the state/county (if any) when it comes to firearms related crimes."
   ]
  },
  {
   "cell_type": "markdown",
   "metadata": {},
   "source": [
    "# Background"
   ]
  },
  {
   "cell_type": "markdown",
   "metadata": {},
   "source": [
    "Unfortunately, the Congress has prohibited [CDC](https://www.cdc.gov/violenceprevention/firearms/funded-research.html) from conducting any research on gun violence prevention and there has been no funding alloted for the same since 1996. Gun politics tends to be polarized in the United States between advocates of gun rights (typically conservatives) and those who support stricter gun laws (typically liberals). Since there are no gun laws at the federal level, it's hard to regulate the sale of firearms. Most states guarantee the [right to bear arms](https://constitution.congress.gov/constitution/amendment-2/), but laws vary from county to county as well. These laws are complex and due to lack of funding, there isn't a single source of rich data.\n",
    "\n",
    "There has been research carried out independently by various organizations that aim to build awareness about this issue. In particular, the [Everytown Support Fund](https://everytownsupportfund.org/) seeks to improve the understanding of the causes of gun violence and help reduce it. This is done by carrying out research, developing evidence based policies, and advancing gun safety and gun violence prevention in communities and courts. The [research](https://everytownresearch.org/research/) carried out by Everytown also lists solutions to deal with prevalent problem - [Stricter Background Checks](https://everytownresearch.org/solution/background-checks/), [Extreme Risk Laws\\Red Flags to de-escalate emergency situations](https://everytownresearch.org/solution/extreme-risk-laws/), [Secure and Responsible Gun Storage](https://everytownresearch.org/solution/responsible-gun-storage/), [Enforcing a Waiting Period](https://everytownresearch.org/solution/waiting-periods/) among a few.\n",
    "\n",
    "Another interesting study carried out by the [American Psychological Association](https://www.apa.org/pubs/info/reports/gun-violence-prevention) aims to predict gun violence based on socio-economic and demographic information to identify at risk individuals, and preventing it at an individual level as well as at a community level."
   ]
  }
 ],
 "metadata": {
  "kernelspec": {
   "display_name": "Python 3",
   "language": "python",
   "name": "python3"
  },
  "language_info": {
   "codemirror_mode": {
    "name": "ipython",
    "version": 3
   },
   "file_extension": ".py",
   "mimetype": "text/x-python",
   "name": "python",
   "nbconvert_exporter": "python",
   "pygments_lexer": "ipython3",
   "version": "3.7.6"
  }
 },
 "nbformat": 4,
 "nbformat_minor": 4
}
